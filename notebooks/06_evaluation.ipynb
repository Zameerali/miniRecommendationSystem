{
 "cells": [
  {
   "cell_type": "code",
   "execution_count": 11,
   "id": "4bf5a1f3",
   "metadata": {},
   "outputs": [],
   "source": [
    "# Import libraries for evaluation\n",
    "import pandas as pd\n",
    "import numpy as np\n",
    "import random\n",
    "from surprise import SVD, Dataset, Reader\n",
    "from surprise import accuracy\n",
    "from sklearn.feature_extraction.text import TfidfVectorizer\n",
    "from sklearn.metrics.pairwise import cosine_similarity\n",
    "from sklearn.model_selection import train_test_split"
   ]
  },
  {
   "cell_type": "code",
   "execution_count": 12,
   "id": "dcd3e30e",
   "metadata": {},
   "outputs": [
    {
     "name": "stdout",
     "output_type": "stream",
     "text": [
      "Training set size: 80\n",
      "Test set size: 20\n"
     ]
    }
   ],
   "source": [
    "# Load dataset and split into train/test\n",
    "df = pd.read_csv('../data/processed/stress_relief_data.csv')\n",
    "train_df, test_df = train_test_split(df, test_size=0.2, random_state=42)\n",
    "print('Training set size:', len(train_df))\n",
    "print('Test set size:', len(test_df))"
   ]
  },
  {
   "cell_type": "code",
   "execution_count": 13,
   "id": "2b5278fc",
   "metadata": {},
   "outputs": [],
   "source": [
    "# Random Baseline\n",
    "def random_baseline():\n",
    "    activities = ['meditation', 'music', 'journaling', 'breathing', 'walking']\n",
    "    return random.choice(activities)\n",
    "\n",
    "# Popularity Baseline\n",
    "def popularity_baseline(df):\n",
    "    activity_scores = df.groupby('activity')['feedback'].sum().sort_values(ascending=False)\n",
    "    return activity_scores.index[0]\n",
    "\n",
    "# SVD Model\n",
    "def train_svd_model(train_df):\n",
    "    reader = Reader(rating_scale=(0, 1))\n",
    "    data = Dataset.load_from_df(train_df[['user_id', 'activity', 'feedback']], reader)\n",
    "    trainset = data.build_full_trainset()\n",
    "    model = SVD(n_factors=10, random_state=42)\n",
    "    model.fit(trainset)\n",
    "    return model\n",
    "\n",
    "def recommend_svd(user_id, model, activities, n=3):\n",
    "    predictions = [(activity, model.predict(user_id, activity).est) for activity in activities]\n",
    "    predictions.sort(key=lambda x: x[1], reverse=True)\n",
    "    return [activity for activity, _ in predictions[:n]]\n",
    "\n",
    "# TF-IDF Content-Based Model\n",
    "def train_tfidf_model(train_df):\n",
    "    df_liked = train_df[train_df['feedback'] == 1].copy()\n",
    "    df_liked['profile'] = df_liked['mood'] + ' ' + df_liked['activity']\n",
    "    tfidf = TfidfVectorizer(stop_words='english')\n",
    "    tfidf_matrix = tfidf.fit_transform(df_liked['profile'])\n",
    "    return tfidf, tfidf_matrix, df_liked\n",
    "\n",
    "def content_based_recommend(mood, tfidf, tfidf_matrix, df_liked, n=3):\n",
    "    mood_vector = tfidf.transform([mood])\n",
    "    similarities = cosine_similarity(mood_vector, tfidf_matrix).flatten()\n",
    "    top_indices = similarities.argsort()[-n:][::-1]\n",
    "    return df_liked.iloc[top_indices]['activity'].tolist()"
   ]
  },
  {
   "cell_type": "code",
   "execution_count": 14,
   "id": "b7de6a27",
   "metadata": {},
   "outputs": [],
   "source": [
    "# LinUCB Bandit Implementation\n",
    "class LinUCBBandit:\n",
    "    def __init__(self, arms, context_dim, alpha=1.0):\n",
    "        self.arms = arms\n",
    "        self.context_dim = context_dim\n",
    "        self.alpha = alpha\n",
    "        self.A = {arm: np.identity(context_dim) for arm in arms}\n",
    "        self.b = {arm: np.zeros(context_dim) for arm in arms}\n",
    "\n",
    "    def select_arm(self, context):\n",
    "        ucb_values = {}\n",
    "        for arm in self.arms:\n",
    "            A_inv = np.linalg.inv(self.A[arm])\n",
    "            theta = np.dot(A_inv, self.b[arm])\n",
    "            ucb = np.dot(theta, context) + self.alpha * np.sqrt(np.dot(context.T, np.dot(A_inv, context)))\n",
    "            ucb_values[arm] = ucb\n",
    "        return max(ucb_values, key=ucb_values.get)\n",
    "\n",
    "    def update(self, arm, context, reward):\n",
    "        self.A[arm] += np.outer(context, context)\n",
    "        self.b[arm] += reward * context\n",
    "\n",
    "def get_context(mood, stress_level):\n",
    "    mood_vec = [1 if mood == 'anxious' else 0, 1 if mood == 'calm' else 0]\n",
    "    stress_vec = [1 if stress_level == 'high' else 0, 1 if stress_level == 'low' else 0]\n",
    "    return np.array(mood_vec + stress_vec)"
   ]
  },
  {
   "cell_type": "code",
   "execution_count": 15,
   "id": "8be29f20",
   "metadata": {},
   "outputs": [
    {
     "name": "stdout",
     "output_type": "stream",
     "text": [
      "Random Baseline Precision@3: 0.667\n",
      "Popularity Baseline Precision@3: 0.167\n",
      "SVD Precision@3: 0.583\n",
      "TF-IDF Precision@3: 0.417\n"
     ]
    }
   ],
   "source": [
    "# Evaluate Precision@3 for static models\n",
    "def precision_at_k(test_df, recommendations, k=3):\n",
    "    hits = 0\n",
    "    total = 0\n",
    "    for _, row in test_df.iterrows():\n",
    "        user_id = row['user_id']\n",
    "        mood = row['mood']\n",
    "        true_activity = row['activity']\n",
    "        true_feedback = row['feedback']\n",
    "        if true_feedback == 1:  # Only evaluate where true feedback is 1\n",
    "            total += 1\n",
    "            if true_activity in recommendations(user_id, mood):\n",
    "                hits += 1\n",
    "    return hits / total if total > 0 else 0\n",
    "\n",
    "# Train models\n",
    "activities = ['meditation', 'music', 'journaling', 'breathing', 'walking']\n",
    "svd_model = train_svd_model(train_df)\n",
    "tfidf, tfidf_matrix, df_liked = train_tfidf_model(train_df)\n",
    "\n",
    "# Evaluate Random Baseline\n",
    "random_precision = precision_at_k(test_df, lambda user_id, mood: [random_baseline() for _ in range(3)])\n",
    "print(f'Random Baseline Precision@3: {random_precision:.3f}')\n",
    "\n",
    "# Evaluate Popularity Baseline\n",
    "popularity_activity = popularity_baseline(train_df)\n",
    "popularity_precision = precision_at_k(test_df, lambda user_id, mood: [popularity_activity for _ in range(3)])\n",
    "print(f'Popularity Baseline Precision@3: {popularity_precision:.3f}')\n",
    "\n",
    "# Evaluate SVD\n",
    "svd_precision = precision_at_k(test_df, lambda user_id, mood: recommend_svd(user_id, svd_model, activities))\n",
    "print(f'SVD Precision@3: {svd_precision:.3f}')\n",
    "\n",
    "# Evaluate TF-IDF\n",
    "tfidf_precision = precision_at_k(test_df, lambda user_id, mood: content_based_recommend(mood, tfidf, tfidf_matrix, df_liked))\n",
    "print(f'TF-IDF Precision@3: {tfidf_precision:.3f}')"
   ]
  },
  {
   "cell_type": "code",
   "execution_count": 16,
   "id": "aa04702c",
   "metadata": {},
   "outputs": [
    {
     "name": "stdout",
     "output_type": "stream",
     "text": [
      "LinUCB Bandit Average Reward: 0.100\n"
     ]
    }
   ],
   "source": [
    "# Evaluate LinUCB Bandit (Cumulative Reward)\n",
    "def evaluate_bandit(test_df):\n",
    "    bandit = LinUCBBandit(activities, context_dim=4, alpha=1.0)\n",
    "    cumulative_reward = 0\n",
    "    for _, row in test_df.iterrows():\n",
    "        context = get_context(row['mood'], row['stress_level'])\n",
    "        arm = bandit.select_arm(context)\n",
    "        reward = 1 if (arm == row['activity'] and row['feedback'] == 1) else 0\n",
    "        bandit.update(arm, context, reward)\n",
    "        cumulative_reward += reward\n",
    "    return cumulative_reward / len(test_df) if len(test_df) > 0 else 0.0\n",
    "\n",
    "bandit_reward = evaluate_bandit(test_df)\n",
    "print(f'LinUCB Bandit Average Reward: {bandit_reward:.3f}')"
   ]
  }
 ],
 "metadata": {
  "kernelspec": {
   "display_name": ".venv311",
   "language": "python",
   "name": "python3"
  },
  "language_info": {
   "codemirror_mode": {
    "name": "ipython",
    "version": 3
   },
   "file_extension": ".py",
   "mimetype": "text/x-python",
   "name": "python",
   "nbconvert_exporter": "python",
   "pygments_lexer": "ipython3",
   "version": "3.11.9"
  }
 },
 "nbformat": 4,
 "nbformat_minor": 5
}
