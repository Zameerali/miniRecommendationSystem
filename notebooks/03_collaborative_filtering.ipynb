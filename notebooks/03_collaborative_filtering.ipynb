{
 "cells": [
  {
   "cell_type": "code",
   "execution_count": 7,
   "id": "ae680ce8",
   "metadata": {},
   "outputs": [
    {
     "name": "stdout",
     "output_type": "stream",
     "text": [
      "NumPy version: 1.26.4\n"
     ]
    }
   ],
   "source": [
    "# Check NumPy version\n",
    "import numpy as np\n",
    "print(\"NumPy version:\", np.__version__)"
   ]
  },
  {
   "cell_type": "code",
   "execution_count": 8,
   "id": "b226bbe7",
   "metadata": {},
   "outputs": [],
   "source": [
    "# Import libraries for data manipulation and SVD\n",
    "import pandas as pd\n",
    "from surprise import SVD, Dataset, Reader\n",
    "from surprise.model_selection import train_test_split\n",
    "from surprise import accuracy"
   ]
  },
  {
   "cell_type": "code",
   "execution_count": 9,
   "id": "072082a6",
   "metadata": {},
   "outputs": [
    {
     "name": "stdout",
     "output_type": "stream",
     "text": [
      "Columns: ['user_id', 'mood', 'stress_level', 'activity', 'feedback']\n",
      "First 5 rows:\n",
      "    user_id     mood stress_level    activity  feedback\n",
      "0     1999     calm          low  journaling         0\n",
      "1     2631  anxious         high     walking         1\n",
      "2      446  anxious         high       music         1\n",
      "3      517  anxious         high  meditation         0\n",
      "4     2760     calm          low   breathing         1\n"
     ]
    }
   ],
   "source": [
    "# Load the processed dataset\n",
    "df = pd.read_csv('../data/processed/stress_relief_data.csv')\n",
    "# Verify columns and first few rows\n",
    "print('Columns:', df.columns.tolist())\n",
    "print('First 5 rows:\\n', df.head())"
   ]
  },
  {
   "cell_type": "code",
   "execution_count": 10,
   "id": "cf2df578",
   "metadata": {},
   "outputs": [
    {
     "name": "stdout",
     "output_type": "stream",
     "text": [
      "Training set size: 4444\n"
     ]
    }
   ],
   "source": [
    "# Prepare data for Surprise\n",
    "# Define the rating scale (0=not liked, 1=liked)\n",
    "reader = Reader(rating_scale=(0, 1))\n",
    "# Load data into Surprise format (user_id, activity, feedback)\n",
    "data = Dataset.load_from_df(df[['user_id', 'activity', 'feedback']], reader)\n",
    "# Split into train and test sets (80% train, 20% test)\n",
    "trainset, testset = train_test_split(data, test_size=0.2, random_state=42)\n",
    "print('Training set size:', trainset.n_ratings)"
   ]
  },
  {
   "cell_type": "code",
   "execution_count": 11,
   "id": "63650002",
   "metadata": {},
   "outputs": [
    {
     "name": "stdout",
     "output_type": "stream",
     "text": [
      "RMSE: 0.4578\n",
      "RMSE on test set: 0.458\n"
     ]
    }
   ],
   "source": [
    "# Train SVD model\n",
    "model = SVD(n_factors=10, random_state=42)\n",
    "model.fit(trainset)\n",
    "# Test the model on the test set\n",
    "predictions = model.test(testset)\n",
    "# Calculate RMSE\n",
    "rmse = accuracy.rmse(predictions)\n",
    "print(f'RMSE on test set: {rmse:.3f}')"
   ]
  },
  {
   "cell_type": "code",
   "execution_count": 12,
   "id": "37900115",
   "metadata": {},
   "outputs": [
    {
     "name": "stdout",
     "output_type": "stream",
     "text": [
      "Recommended activities for user 1: ['walking', 'journaling', 'music']\n"
     ]
    }
   ],
   "source": [
    "# Function to recommend activities for a user\n",
    "def recommend_activities(user_id, model, activities, n=3):\n",
    "    # Get all activities\n",
    "    predictions = []\n",
    "    for activity in activities:\n",
    "        pred = model.predict(user_id, activity)\n",
    "        predictions.append((activity, pred.est))\n",
    "    # Sort by predicted rating and return top n\n",
    "    predictions.sort(key=lambda x: x[1], reverse=True)\n",
    "    return [activity for activity, _ in predictions[:n]]\n",
    "\n",
    "# Test recommendations for a sample user\n",
    "activities = ['meditation', 'music', 'journaling', 'breathing', 'walking']\n",
    "sample_user_id = 1\n",
    "recommended = recommend_activities(sample_user_id, model, activities)\n",
    "print(f'Recommended activities for user {sample_user_id}:', recommended)"
   ]
  }
 ],
 "metadata": {
  "kernelspec": {
   "display_name": ".venv311",
   "language": "python",
   "name": "python3"
  },
  "language_info": {
   "codemirror_mode": {
    "name": "ipython",
    "version": 3
   },
   "file_extension": ".py",
   "mimetype": "text/x-python",
   "name": "python",
   "nbconvert_exporter": "python",
   "pygments_lexer": "ipython3",
   "version": "3.11.9"
  }
 },
 "nbformat": 4,
 "nbformat_minor": 5
}
