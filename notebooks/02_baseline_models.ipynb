{
 "cells": [
  {
   "cell_type": "code",
   "execution_count": 2,
   "id": "56905f0e",
   "metadata": {},
   "outputs": [],
   "source": [
    "# Import libraries\n",
    "import pandas as pd\n",
    "import random"
   ]
  },
  {
   "cell_type": "code",
   "execution_count": 3,
   "id": "5a15148d",
   "metadata": {},
   "outputs": [
    {
     "name": "stdout",
     "output_type": "stream",
     "text": [
      "Index(['user_id', 'mood', 'stress_level', 'activity', 'feedback'], dtype='object')\n",
      "   user_id     mood stress_level    activity  feedback\n",
      "0        2     calm          low       music         0\n",
      "1        9     calm          low  meditation         1\n",
      "2       44     calm          low  meditation         1\n",
      "3       30  anxious         high     walking         0\n",
      "4        3     calm          low       music         0\n"
     ]
    }
   ],
   "source": [
    "# Load the processed dataset\n",
    "df = pd.read_csv('../data/processed/stress_relief_data.csv')\n",
    "# Verify columns and first few rows\n",
    "print(df.columns)\n",
    "print(df.head())"
   ]
  },
  {
   "cell_type": "code",
   "execution_count": 10,
   "id": "251e1e92",
   "metadata": {},
   "outputs": [
    {
     "name": "stdout",
     "output_type": "stream",
     "text": [
      "Random Baseline Recommendation: meditation\n"
     ]
    }
   ],
   "source": [
    "# Random Baseline: Recommend a random activity\n",
    "def random_baseline():\n",
    "    activities = ['meditation', 'music', 'journaling', 'breathing', 'walking']\n",
    "    return random.choice(activities)\n",
    "\n",
    "# Test the random baseline\n",
    "print('Random Baseline Recommendation:', random_baseline())"
   ]
  },
  {
   "cell_type": "code",
   "execution_count": 13,
   "id": "b075aa4e",
   "metadata": {},
   "outputs": [
    {
     "name": "stdout",
     "output_type": "stream",
     "text": [
      "Popularity Baseline Recommendation: meditation\n"
     ]
    }
   ],
   "source": [
    "# Popularity Baseline: Recommend the most popular activity\n",
    "def popularity_baseline(df):\n",
    "    # Group by activity and sum feedback (1=liked, 0=not liked)\n",
    "    activity_scores = df.groupby('activity')['feedback'].sum().sort_values(ascending=False)\n",
    "    # Return the top activity\n",
    "    return activity_scores.index[0]\n",
    "\n",
    "# Test the popularity baseline\n",
    "print('Popularity Baseline Recommendation:', popularity_baseline(df))"
   ]
  }
 ],
 "metadata": {
  "kernelspec": {
   "display_name": ".venv311",
   "language": "python",
   "name": "python3"
  },
  "language_info": {
   "codemirror_mode": {
    "name": "ipython",
    "version": 3
   },
   "file_extension": ".py",
   "mimetype": "text/x-python",
   "name": "python",
   "nbconvert_exporter": "python",
   "pygments_lexer": "ipython3",
   "version": "3.11.9"
  }
 },
 "nbformat": 4,
 "nbformat_minor": 5
}
