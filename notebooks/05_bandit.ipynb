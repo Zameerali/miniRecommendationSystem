{
 "cells": [
  {
   "cell_type": "code",
   "execution_count": 35,
   "id": "2a26be53",
   "metadata": {},
   "outputs": [],
   "source": [
    "# Import libraries for data manipulation and bandit\n",
    "import pandas as pd\n",
    "import numpy as np"
   ]
  },
  {
   "cell_type": "code",
   "execution_count": 36,
   "id": "75bb1c78",
   "metadata": {},
   "outputs": [
    {
     "name": "stdout",
     "output_type": "stream",
     "text": [
      "Columns: ['user_id', 'mood', 'stress_level', 'activity', 'feedback']\n",
      "First 5 rows:\n",
      "    user_id     mood stress_level    activity  feedback\n",
      "0      433     calm          low  journaling         0\n",
      "1     1140  anxious         high  journaling         1\n",
      "2      934  anxious         high  meditation         1\n",
      "3      681  anxious         high  meditation         1\n",
      "4     1623     calm          low       music         1\n"
     ]
    }
   ],
   "source": [
    "# Load the processed dataset\n",
    "df = pd.read_csv('../data/processed/stress_relief_data.csv')\n",
    "# Verify columns and first few rows\n",
    "print('Columns:', df.columns.tolist())\n",
    "print('First 5 rows:\\n', df.head())"
   ]
  },
  {
   "cell_type": "code",
   "execution_count": 37,
   "id": "9e0762f0",
   "metadata": {},
   "outputs": [],
   "source": [
    "# LinUCB Bandit Implementation\n",
    "class LinUCBBandit:\n",
    "    def __init__(self, arms, context_dim, alpha=1.0):\n",
    "        self.arms = arms  # List of activities\n",
    "        self.context_dim = context_dim  # Number of context features\n",
    "        self.alpha = alpha  # Exploration parameter\n",
    "        # Initialize matrices for each arm\n",
    "        self.A = {arm: np.identity(context_dim) for arm in arms}  # Covariance matrix\n",
    "        self.b = {arm: np.zeros(context_dim) for arm in arms}  # Reward vector\n",
    "\n",
    "    def select_arm(self, context):\n",
    "        # Calculate UCB for each arm\n",
    "        ucb_values = {}\n",
    "        for arm in self.arms:\n",
    "            A_inv = np.linalg.inv(self.A[arm])\n",
    "            theta = A_inv.dot(self.b[arm])\n",
    "            # predicted reward + exploration term\n",
    "            exploit = theta.dot(context)\n",
    "            explore = self.alpha * np.sqrt(context.T.dot(A_inv).dot(context))\n",
    "            ucb = exploit + explore\n",
    "            ucb_values[arm] = ucb\n",
    "        # Select arm with highest UCB\n",
    "        return max(ucb_values, key=ucb_values.get)\n",
    "\n",
    "    def update(self, arm, context, reward):\n",
    "        # Update A and b for the chosen arm\n",
    "        self.A[arm] += np.outer(context, context)\n",
    "        self.b[arm] += reward * context\n",
    "\n",
    "# Prepare context features\n",
    "def get_context(mood, stress_level):\n",
    "    # Convert mood and stress_level to binary features\n",
    "    mood_vec = [1 if mood == 'anxious' else 0, 1 if mood == 'calm' else 0]\n",
    "    stress_vec = [1 if stress_level == 'high' else 0, 1 if stress_level == 'low' else 0]\n",
    "    return np.array(mood_vec + stress_vec)\n",
    "\n",
    "# Example usage (uncomment to run after training the bandit or preparing data):\n",
    "# arms = ['meditation', 'music', 'journaling', 'breathing', 'walking']\n",
    "# bandit = LinUCBBandit(arms, context_dim=4, alpha=1.0)\n",
    "# ctx = get_context('anxious', 'high')\n",
    "# chosen = bandit.select_arm(ctx)\n",
    "# print('Chosen arm:', chosen)"
   ]
  },
  {
   "cell_type": "code",
   "execution_count": 38,
   "id": "89e877ad",
   "metadata": {},
   "outputs": [
    {
     "name": "stdout",
     "output_type": "stream",
     "text": [
      "Recommended activity for mood 'anxious' and stress_level 'low': walking\n"
     ]
    }
   ],
   "source": [
    "# Initialize bandit\n",
    "activities = ['meditation', 'music', 'journaling', 'breathing', 'walking']\n",
    "context_dim = 4  # 2 for mood (anxious, calm), 2 for stress_level (high, low)\n",
    "bandit = LinUCBBandit(activities, context_dim, alpha=1.0)\n",
    "\n",
    "# Simulate interactions\n",
    "np.random.seed(42)\n",
    "n_interactions = 100\n",
    "for _ in range(n_interactions):\n",
    "    # Randomly select a user context\n",
    "    mood = np.random.choice(['anxious', 'calm'])\n",
    "    stress_level = np.random.choice(['high', 'low'])\n",
    "    context = get_context(mood, stress_level)\n",
    "    # Select an arm (activity)\n",
    "    arm = bandit.select_arm(context)\n",
    "    # Simulate reward (use dataset feedback for matching context/activity)\n",
    "    relevant_rows = df[(df['mood'] == mood) & (df['stress_level'] == stress_level) & (df['activity'] == arm)]\n",
    "    if not relevant_rows.empty:\n",
    "        reward = float(relevant_rows['feedback'].mean())\n",
    "        if np.isnan(reward):\n",
    "            reward = 0.0\n",
    "    else:\n",
    "        reward = float(np.random.choice([0, 1], p=[0.3, 0.7]))\n",
    "    # Update bandit\n",
    "    bandit.update(arm, context, reward)\n",
    "\n",
    "# Test recommendation for a sample context\n",
    "test_mood = 'anxious'\n",
    "test_stress_level = 'low'\n",
    "test_context = get_context(test_mood, test_stress_level)\n",
    "recommended_activity = bandit.select_arm(test_context)\n",
    "print(f\"Recommended activity for mood '{test_mood}' and stress_level '{test_stress_level}':\", recommended_activity)"
   ]
  }
 ],
 "metadata": {
  "kernelspec": {
   "display_name": ".venv311",
   "language": "python",
   "name": "python3"
  },
  "language_info": {
   "codemirror_mode": {
    "name": "ipython",
    "version": 3
   },
   "file_extension": ".py",
   "mimetype": "text/x-python",
   "name": "python",
   "nbconvert_exporter": "python",
   "pygments_lexer": "ipython3",
   "version": "3.11.9"
  }
 },
 "nbformat": 4,
 "nbformat_minor": 5
}
