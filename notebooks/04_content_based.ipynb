{
 "cells": [
  {
   "cell_type": "code",
   "execution_count": 1,
   "id": "7d50460d",
   "metadata": {},
   "outputs": [],
   "source": [
    "# Import libraries for data manipulation and TF-IDF\n",
    "import pandas as pd\n",
    "from sklearn.feature_extraction.text import TfidfVectorizer\n",
    "from sklearn.metrics.pairwise import cosine_similarity"
   ]
  },
  {
   "cell_type": "code",
   "execution_count": 2,
   "id": "c34bec14",
   "metadata": {},
   "outputs": [
    {
     "name": "stdout",
     "output_type": "stream",
     "text": [
      "Columns: ['user_id', 'mood', 'stress_level', 'activity', 'feedback']\n",
      "First 5 rows:\n",
      "    user_id     mood stress_level    activity  feedback\n",
      "0        2     calm          low       music         0\n",
      "1        9     calm          low  meditation         1\n",
      "2       44     calm          low  meditation         1\n",
      "3       30  anxious         high     walking         0\n",
      "4        3     calm          low       music         0\n"
     ]
    }
   ],
   "source": [
    "# Load the processed dataset\n",
    "df = pd.read_csv('../data/processed/stress_relief_data.csv')\n",
    "# Verify columns and first few rows\n",
    "print('Columns:', df.columns.tolist())\n",
    "print('First 5 rows:\\n', df.head())"
   ]
  },
  {
   "cell_type": "code",
   "execution_count": 3,
   "id": "0bbe0d37",
   "metadata": {},
   "outputs": [
    {
     "name": "stdout",
     "output_type": "stream",
     "text": [
      "TF-IDF matrix shape: (72, 7)\n"
     ]
    }
   ],
   "source": [
    "# Prepare data for content-based filtering\n",
    "# Combine mood and activity into a 'profile' for each row\n",
    "df['profile'] = df['mood'] + ' ' + df['activity']\n",
    "# Filter rows where feedback=1 (liked activities)\n",
    "df_liked = df[df['feedback'] == 1]\n",
    "# Create TF-IDF matrix for mood+activity profiles\n",
    "tfidf = TfidfVectorizer(stop_words='english')\n",
    "tfidf_matrix = tfidf.fit_transform(df_liked['profile'])\n",
    "# Print shape of TF-IDF matrix\n",
    "print('TF-IDF matrix shape:', tfidf_matrix.shape)"
   ]
  },
  {
   "cell_type": "code",
   "execution_count": 5,
   "id": "261bbd96",
   "metadata": {},
   "outputs": [
    {
     "name": "stdout",
     "output_type": "stream",
     "text": [
      "Recommended activities for mood \"anxious\": ['meditation', 'meditation', 'meditation']\n"
     ]
    }
   ],
   "source": [
    "# Function to recommend activities based on mood\n",
    "def content_based_recommend(mood, tfidf, tfidf_matrix, df_liked, n=3):\n",
    "    # Transform input mood to TF-IDF vector\n",
    "    mood_vector = tfidf.transform([mood])\n",
    "    # Compute cosine similarity between mood and all profiles\n",
    "    similarities = cosine_similarity(mood_vector, tfidf_matrix).flatten()\n",
    "    # Get indices of top n similar profiles\n",
    "    top_indices = similarities.argsort()[-n:][::-1]\n",
    "    # Return corresponding activities\n",
    "    recommended_activities = df_liked.iloc[top_indices]['activity'].tolist()\n",
    "    return recommended_activities\n",
    "\n",
    "# Test recommendations for a sample mood\n",
    "sample_mood = 'anxious'\n",
    "recommended = content_based_recommend(sample_mood, tfidf, tfidf_matrix, df_liked)\n",
    "print(f'Recommended activities for mood \\\"{sample_mood}\\\":', recommended)"
   ]
  }
 ],
 "metadata": {
  "kernelspec": {
   "display_name": ".venv311",
   "language": "python",
   "name": "python3"
  },
  "language_info": {
   "codemirror_mode": {
    "name": "ipython",
    "version": 3
   },
   "file_extension": ".py",
   "mimetype": "text/x-python",
   "name": "python",
   "nbconvert_exporter": "python",
   "pygments_lexer": "ipython3",
   "version": "3.11.9"
  }
 },
 "nbformat": 4,
 "nbformat_minor": 5
}
