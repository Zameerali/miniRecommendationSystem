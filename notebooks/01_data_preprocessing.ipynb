{
 "cells": [
  {
   "cell_type": "code",
   "execution_count": 1,
   "id": "d7f27dfe",
   "metadata": {},
   "outputs": [],
   "source": [
    "# Import libraries for data manipulation\n",
    "import pandas as pd\n",
    "import numpy as np\n",
    "import random\n"
   ]
  },
  {
   "cell_type": "code",
   "execution_count": 2,
   "id": "d9474e82",
   "metadata": {},
   "outputs": [],
   "source": [
    "# Load the Reddit Title dataset\n",
    "df = pd.read_csv(\n",
    "    \"../data/raw/Reddit_Title.csv\",\n",
    "    delimiter=\";\",\n",
    "    quoting=1,   # 1 = QUOTE_ALL\n",
    "    on_bad_lines=\"skip\",  # skip problematic lines\n",
    "    engine=\"python\"\n",
    ")"
   ]
  },
  {
   "cell_type": "code",
   "execution_count": 3,
   "id": "414ac861",
   "metadata": {},
   "outputs": [
    {
     "name": "stdout",
     "output_type": "stream",
     "text": [
      "   user_id     mood stress_level    activity  feedback\n",
      "0      433     calm          low  journaling         0\n",
      "1     1140  anxious         high  journaling         1\n",
      "2      934  anxious         high  meditation         1\n",
      "3      681  anxious         high  meditation         1\n",
      "4     1623     calm          low       music         1\n"
     ]
    }
   ],
   "source": [
    "# Add synthetic columns for recommendation system\n",
    "# Ensure a label column exists. Some raw files may use 'stress_label' or have no labels.\n",
    "if 'label' not in df.columns:\n",
    "    if 'stress_label' in df.columns:\n",
    "        df = df.rename(columns={'stress_label': 'label'})\n",
    "    else:\n",
    "        # Fallback: derive a simple heuristic label from the title text.\n",
    "        def classify_label(title):\n",
    "            if not isinstance(title, str):\n",
    "                return 0\n",
    "            text = title.lower()\n",
    "            keywords = ['stress', 'anx', 'panic', 'overwhelm', 'depress']\n",
    "            return 1 if any(k in text for k in keywords) else 0\n",
    "        df['label'] = df.get('title', pd.Series([''] * len(df))).apply(classify_label)\n",
    "\n",
    "num_rows = len(df)\n",
    "# Create synthetic user ids (simulate multiple posts per user)\n",
    "df['user_id'] = np.random.randint(1, max(2, num_rows // 2 + 1), size=num_rows)\n",
    "\n",
    "# Map label (0=stress-negative, 1=stress-positive) to mood and stress level\n",
    "df['mood'] = df['label'].map({1: 'anxious', 0: 'calm'})\n",
    "df['stress_level'] = df['label'].map({1: 'high', 0: 'low'})\n",
    "\n",
    "# Define possible stress-relief activities and assign randomly\n",
    "activities = ['meditation', 'music', 'journaling', 'breathing', 'walking']\n",
    "df['activity'] = [random.choice(activities) for _ in range(num_rows)]\n",
    "\n",
    "# Synthetic feedback: 1=liked, 0=not liked (70% chance of liking)\n",
    "df['feedback'] = np.random.choice([0, 1], size=num_rows, p=[0.3, 0.7])\n",
    "\n",
    "# Preview the processed data\n",
    "print(df[['user_id', 'mood', 'stress_level', 'activity', 'feedback']].head())"
   ]
  },
  {
   "cell_type": "code",
   "execution_count": 4,
   "id": "9a7ec548",
   "metadata": {},
   "outputs": [
    {
     "name": "stdout",
     "output_type": "stream",
     "text": [
      "Saved to ../data/processed/stress_relief_data.csv\n"
     ]
    }
   ],
   "source": [
    "# Save the processed dataset\n",
    "df[['user_id', 'mood', 'stress_level', 'activity', 'feedback']].to_csv(\n",
    "    '../data/processed/stress_relief_data.csv', index=False\n",
    ")\n",
    "# Confirm file saved\n",
    "print('Saved to ../data/processed/stress_relief_data.csv')"
   ]
  }
 ],
 "metadata": {
  "kernelspec": {
   "display_name": ".venv311",
   "language": "python",
   "name": "python3"
  },
  "language_info": {
   "codemirror_mode": {
    "name": "ipython",
    "version": 3
   },
   "file_extension": ".py",
   "mimetype": "text/x-python",
   "name": "python",
   "nbconvert_exporter": "python",
   "pygments_lexer": "ipython3",
   "version": "3.11.9"
  }
 },
 "nbformat": 4,
 "nbformat_minor": 5
}
