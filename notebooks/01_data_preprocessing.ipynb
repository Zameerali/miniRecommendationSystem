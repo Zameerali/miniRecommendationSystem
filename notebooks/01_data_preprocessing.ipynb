{
 "cells": [
  {
   "cell_type": "code",
   "execution_count": 35,
   "id": "d7f27dfe",
   "metadata": {},
   "outputs": [],
   "source": [
    "# Import libraries for data manipulation\n",
    "import pandas as pd\n",
    "import numpy as np\n",
    "import random\n"
   ]
  },
  {
   "cell_type": "code",
   "execution_count": 36,
   "id": "d9474e82",
   "metadata": {},
   "outputs": [],
   "source": [
    "# Load the Reddit Title dataset\n",
    "df = pd.read_csv(\n",
    "    \"../data/raw/Reddit_Title.csv\",\n",
    "    delimiter=\";\",\n",
    "    quoting=1,   # 1 = QUOTE_ALL\n",
    "    on_bad_lines=\"skip\",  # skip problematic lines\n",
    "    engine=\"python\"\n",
    ")"
   ]
  },
  {
   "cell_type": "code",
   "execution_count": 44,
   "id": "414ac861",
   "metadata": {},
   "outputs": [],
   "source": [
    "# Sample 100 rows to keep dataset small\n",
    "df = df.sample(n=100, random_state=42)  # random_state ensures reproducibility"
   ]
  },
  {
   "cell_type": "code",
   "execution_count": 38,
   "id": "9a7ec548",
   "metadata": {},
   "outputs": [
    {
     "name": "stdout",
     "output_type": "stream",
     "text": [
      "      user_id     mood stress_level    activity  feedback\n",
      "4456        2     calm          low       music         0\n",
      "4626        9     calm          low  meditation         1\n",
      "2802       44     calm          low  meditation         1\n",
      "230        30  anxious         high     walking         0\n",
      "3872        3     calm          low       music         0\n"
     ]
    }
   ],
   "source": [
    "# Add synthetic columns for recommendation system\n",
    "# User IDs (1 to 50, simulating multiple posts per user)\n",
    "df['user_id'] = np.random.randint(1, 51, size=100)\n",
    "\n",
    "# Map label (0=stress-negative, 1=stress-positive) to mood\n",
    "df['mood'] = df['label'].map({1: 'anxious', 0: 'calm'})\n",
    "\n",
    "# Map label to stress_level\n",
    "df['stress_level'] = df['label'].map({1: 'high', 0: 'low'})\n",
    "\n",
    "# Define possible stress-relief activities\n",
    "activities = ['meditation', 'music', 'journaling', 'breathing', 'walking']\n",
    "\n",
    "# Assign random activities\n",
    "df['activity'] = [random.choice(activities) for _ in range(100)]\n",
    "\n",
    "# Assign feedback (1=liked, 0=not liked, 70% chance of liking)\n",
    "df['feedback'] = np.random.choice([0, 1], size=100, p=[0.3, 0.7])\n",
    "\n",
    "# Preview the processed data\n",
    "print(df[['user_id', 'mood', 'stress_level', 'activity', 'feedback']].head())"
   ]
  },
  {
   "cell_type": "code",
   "execution_count": 39,
   "id": "b2e3ca4d",
   "metadata": {},
   "outputs": [],
   "source": [
    "# Save the processed dataset\n",
    "df[['user_id', 'mood', 'stress_level', 'activity', 'feedback']].to_csv(\n",
    "    '../data/processed/stress_relief_data.csv', index=False\n",
    ")"
   ]
  }
 ],
 "metadata": {
  "kernelspec": {
   "display_name": ".venv311",
   "language": "python",
   "name": "python3"
  },
  "language_info": {
   "codemirror_mode": {
    "name": "ipython",
    "version": 3
   },
   "file_extension": ".py",
   "mimetype": "text/x-python",
   "name": "python",
   "nbconvert_exporter": "python",
   "pygments_lexer": "ipython3",
   "version": "3.11.9"
  }
 },
 "nbformat": 4,
 "nbformat_minor": 5
}
